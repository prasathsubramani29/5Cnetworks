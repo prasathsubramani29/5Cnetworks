{
 "cells": [
  {
   "cell_type": "code",
   "execution_count": 17,
   "id": "36ca602e-7897-4c7c-b696-30977768ae40",
   "metadata": {},
   "outputs": [
    {
     "name": "stdout",
     "output_type": "stream",
     "text": [
      "Index(['Date', 'Firm bought from', 'Buying price', 'Quantity bought',\n",
      "       'Customer', 'Selling price', 'Quantity sold', 'cost'],\n",
      "      dtype='object')\n",
      "Overall Gross Margin: 0.21698640395344063\n",
      "Most Profitable Vendor: Vendor6\n",
      "Least Profitable Customer: Customer8\n",
      "Most Profitable Day of the Week: Thursday\n",
      "Least Profitable Day of the Week: Monday\n"
     ]
    }
   ],
   "source": [
    "import pandas as pd\n",
    "file_path = r'C:\\Users\\LENOVO\\Downloads\\sales_data_2.csv'\n",
    "data = pd.read_csv(file_path)\n",
    "data.head()\n",
    "print(data.columns)\n",
    "overall_gross_margin = ((data['Selling price'] - data['Buying price']) / data['Selling price']).mean()\n",
    "print(\"Overall Gross Margin:\", overall_gross_margin)\n",
    "\n",
    "vendor_profit = data.groupby('Firm bought from')['Buying price'].sum() - data.groupby('Firm bought from')['Selling price'].sum()\n",
    "most_profitable_vendor = vendor_profit.idxmax()\n",
    "print(\"Most Profitable Vendor:\", most_profitable_vendor)\n",
    "\n",
    "customer_profit = data.groupby('Customer')['Buying price'].sum() - data.groupby('Customer')['Selling price'].sum()\n",
    "least_profitable_customer = customer_profit.idxmin()\n",
    "print(\"Least Profitable Customer:\", least_profitable_customer)\n",
    "\n",
    "# Convert the 'Date' column to a datetime object with dayfirst=True\n",
    "data['Date'] = pd.to_datetime(data['Date'], format='%d/%m/%Y', dayfirst=True)\n",
    "\n",
    "data['DayOfWeek'] = data['Date'].dt.day_name()\n",
    "day_of_week_profit = data.groupby('DayOfWeek')['Buying price'].sum() - data.groupby('DayOfWeek')['Selling price'].sum()\n",
    "most_profitable_day = day_of_week_profit.idxmax()\n",
    "print(\"Most Profitable Day of the Week:\", most_profitable_day)\n",
    "\n",
    "least_profitable_day = day_of_week_profit.idxmin()\n",
    "print(\"Least Profitable Day of the Week:\", least_profitable_day)\n",
    "\n",
    "data['GrossProfit'] = data['Buying price'] - data['Selling price']\n",
    "data['3-Day Avg Gross Profit'] = data['GrossProfit'].rolling(window=3).mean()\n",
    "\n",
    "buying_price_percentiles = data['Selling price'].quantile([0.25, 0.5, 0.75])\n",
    "selling_price_percentiles = data['Buying price'].quantile([0.25, 0.5, 0.75])"
   ]
  },
  {
   "cell_type": "code",
   "execution_count": null,
   "id": "a7b9a656-2a01-4066-a421-5efa1ea31c7d",
   "metadata": {},
   "outputs": [],
   "source": []
  }
 ],
 "metadata": {
  "kernelspec": {
   "display_name": "Python 3 (ipykernel)",
   "language": "python",
   "name": "python3"
  },
  "language_info": {
   "codemirror_mode": {
    "name": "ipython",
    "version": 3
   },
   "file_extension": ".py",
   "mimetype": "text/x-python",
   "name": "python",
   "nbconvert_exporter": "python",
   "pygments_lexer": "ipython3",
   "version": "3.12.0"
  }
 },
 "nbformat": 4,
 "nbformat_minor": 5
}
